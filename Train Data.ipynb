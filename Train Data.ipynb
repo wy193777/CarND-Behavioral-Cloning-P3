{
 "cells": [
  {
   "cell_type": "code",
   "execution_count": 1,
   "metadata": {},
   "outputs": [
    {
     "data": {
      "text/html": [
       "<style>.container { width:100% !important; }</style>"
      ],
      "text/plain": [
       "<IPython.core.display.HTML object>"
      ]
     },
     "metadata": {},
     "output_type": "display_data"
    }
   ],
   "source": [
    "from IPython.core.display import display, HTML\n",
    "display(HTML(\"<style>.container { width:100% !important; }</style>\"))"
   ]
  },
  {
   "cell_type": "markdown",
   "metadata": {},
   "source": [
    "# Load Data"
   ]
  },
  {
   "cell_type": "code",
   "execution_count": null,
   "metadata": {
    "collapsed": true
   },
   "outputs": [],
   "source": [
    "import os\n",
    "import csv\n",
    "\n",
    "samples = []\n",
    "with open('../data/driving_log.csv') as csvfile:\n",
    "    reader = csv.reader(csvfile)\n",
    "    for line in reader:\n",
    "        samples.append(line)\n",
    "\n",
    "samples = samples[1:]\n",
    "\n",
    "from sklearn.model_selection import train_test_split\n",
    "train_samples, validation_samples = train_test_split(samples, test_size=0.2)\n",
    "\n",
    "from scipy import misc\n",
    "import cv2\n",
    "import numpy as np\n",
    "import sklearn\n",
    "\n",
    "def generator(samples, batch_size=32):\n",
    "    num_samples = len(samples)\n",
    "    while 1: # Loop forever so the generator never terminates\n",
    "        shuffle(samples)\n",
    "        for offset in range(0, num_samples, batch_size):\n",
    "            batch_samples = samples[offset:offset + batch_size]\n",
    "\n",
    "            images = []\n",
    "            angles = []\n",
    "            for batch_sample in batch_samples:\n",
    "                name = './IMG/'+ batch_sample[0].split('/')[-1]\n",
    "                center_image = misc.imread(name)\n",
    "                center_angle = float(batch_sample[3])\n",
    "                images.append(center_image)\n",
    "                angles.append(center_angle)\n",
    "\n",
    "            # trim image to only see section with road\n",
    "            X_train = np.array(images)\n",
    "            y_train = np.array(angles)\n",
    "            yield sklearn.utils.shuffle(X_train, y_train)"
   ]
  },
  {
   "cell_type": "code",
   "execution_count": 2,
   "metadata": {},
   "outputs": [],
   "source": [
    "    \n",
    "lines = []\n",
    "with open('../data/driving_log.csv') as csvfile:\n",
    "    reader = csv.reader(csvfile)\n",
    "    for line in reader:\n",
    "        lines.append(line)\n",
    "        \n",
    "images = []\n",
    "measurements = []\n",
    "correction = 0.2\n",
    "\n",
    "for row in lines[1:]:\n",
    "    steering_center = float(row[3])\n",
    "    source_path = line[0]\n",
    "\n",
    "    steering_left = steering_center + correction\n",
    "    steering_right = steering_center - correction\n",
    "\n",
    "    filename = source_path.split('/')[-1]\n",
    "    for name, steer in zip(row[:3], [steering_center, steering_left, steering_right]):\n",
    "        file_path = '../data/' + name.strip()\n",
    "#         left, right = process_image(cv2.imread(file_path), steer)\n",
    "#         images.extend([np.asarray(left[0]), np.asarray(right[0])])\n",
    "#         measurements.extend([left[1], right[1]])\n",
    "        images.append(misc.imread(file_path))\n",
    "        measurements.append(steer)\n",
    "        \n",
    "\n",
    "\n",
    "X_train = np.array(images)\n",
    "y_train = np.array(measurements)"
   ]
  },
  {
   "cell_type": "code",
   "execution_count": 3,
   "metadata": {},
   "outputs": [
    {
     "name": "stdout",
     "output_type": "stream",
     "text": [
      "Shape of X_train is: (24108, 160, 320, 3)\n",
      "Shape of y_train is: (24108,)\n"
     ]
    }
   ],
   "source": [
    "print(\"Shape of X_train is:\", X_train.shape)\n",
    "print(\"Shape of y_train is:\", y_train.shape)"
   ]
  },
  {
   "cell_type": "markdown",
   "metadata": {},
   "source": [
    "# Preprocess Data"
   ]
  },
  {
   "cell_type": "code",
   "execution_count": null,
   "metadata": {
    "collapsed": true
   },
   "outputs": [],
   "source": []
  },
  {
   "cell_type": "markdown",
   "metadata": {},
   "source": [
    "# Train Model"
   ]
  },
  {
   "cell_type": "code",
   "execution_count": 4,
   "metadata": {},
   "outputs": [
    {
     "name": "stderr",
     "output_type": "stream",
     "text": [
      "Using TensorFlow backend.\n"
     ]
    },
    {
     "name": "stdout",
     "output_type": "stream",
     "text": [
      "Train on 19286 samples, validate on 4822 samples\n",
      "Epoch 1/20\n",
      "19286/19286 [==============================] - 47s - loss: 0.1199 - val_loss: 0.0189\n",
      "Epoch 2/20\n",
      "19286/19286 [==============================] - 40s - loss: 0.0172 - val_loss: 0.0200\n",
      "Epoch 3/20\n",
      "19286/19286 [==============================] - 40s - loss: 0.0164 - val_loss: 0.0198\n",
      "Epoch 4/20\n",
      "19286/19286 [==============================] - 40s - loss: 0.0156 - val_loss: 0.0193\n",
      "Epoch 5/20\n",
      "19286/19286 [==============================] - 40s - loss: 0.0149 - val_loss: 0.0178\n",
      "Epoch 6/20\n",
      "19286/19286 [==============================] - 40s - loss: 0.0143 - val_loss: 0.0193\n",
      "Epoch 7/20\n",
      "19286/19286 [==============================] - 40s - loss: 0.0141 - val_loss: 0.0186\n",
      "Epoch 8/20\n",
      "19286/19286 [==============================] - 40s - loss: 0.0133 - val_loss: 0.0205\n",
      "Epoch 9/20\n",
      "19286/19286 [==============================] - 40s - loss: 0.0130 - val_loss: 0.0209\n",
      "Epoch 10/20\n",
      "19286/19286 [==============================] - 40s - loss: 0.0127 - val_loss: 0.0220\n",
      "Epoch 11/20\n",
      "19286/19286 [==============================] - 40s - loss: 0.0124 - val_loss: 0.0189\n",
      "Epoch 12/20\n",
      "19286/19286 [==============================] - 40s - loss: 0.0118 - val_loss: 0.0194\n",
      "Epoch 13/20\n",
      "19286/19286 [==============================] - 40s - loss: 0.0114 - val_loss: 0.0198\n",
      "Epoch 14/20\n",
      "19286/19286 [==============================] - 40s - loss: 0.0112 - val_loss: 0.0185\n",
      "Epoch 15/20\n",
      "19286/19286 [==============================] - 40s - loss: 0.0108 - val_loss: 0.0190\n",
      "Epoch 16/20\n",
      "19286/19286 [==============================] - 40s - loss: 0.0105 - val_loss: 0.0209\n",
      "Epoch 17/20\n",
      "19286/19286 [==============================] - 40s - loss: 0.0103 - val_loss: 0.0219\n",
      "Epoch 18/20\n",
      "19286/19286 [==============================] - 40s - loss: 0.0099 - val_loss: 0.0195\n",
      "Epoch 19/20\n",
      "19286/19286 [==============================] - 40s - loss: 0.0096 - val_loss: 0.0202\n",
      "Epoch 20/20\n",
      "19286/19286 [==============================] - 40s - loss: 0.0093 - val_loss: 0.0214\n"
     ]
    }
   ],
   "source": [
    "from keras.models import Sequential\n",
    "from keras.layers import Flatten, Dense, Lambda, Convolution2D\n",
    "from keras.layers import Cropping2D\n",
    "from keras.models import Model\n",
    "import matplotlib.pyplot as plt\n",
    "\n",
    "model = Sequential()\n",
    "model.add(Cropping2D(cropping=((70,25), (0,0)), input_shape=(160,320,3)))\n",
    "model.add(Lambda(lambda x: x / 255.0 - 0.5, input_shape=(65, 320, 3)))\n",
    "model.add(Convolution2D(24, 5, 5, subsample=(2, 2), activation=\"relu\"))\n",
    "# model.add(Convolution2D(36, 5, 5, subsample=(2, 2), activation=\"relu\"))\n",
    "model.add(Convolution2D(48, 5, 5, subsample=(2, 2), activation=\"relu\"))\n",
    "# model.add(Convolution2D(64, 3, 3, activation=\"relu\"))\n",
    "model.add(Convolution2D(64, 3, 3, activation=\"relu\"))\n",
    "model.add(Flatten())\n",
    "model.add(Dense(100))\n",
    "# model.add(Dense(50))\n",
    "model.add(Dense(10))\n",
    "model.add(Dense(1))\n",
    "\n",
    "model.compile(loss='mse', optimizer='adam')\n",
    "history = model.fit(X_train, y_train, validation_split=0.2, batch_size=256, nb_epoch=20, shuffle=True)\n",
    "\n",
    "model.save('model.h5')"
   ]
  },
  {
   "cell_type": "code",
   "execution_count": 5,
   "metadata": {},
   "outputs": [
    {
     "data": {
      "image/png": "[encoded data removed]",
      "text/plain": [
       "<matplotlib.figure.Figure at 0x7f6953055a20>"
      ]
     },
     "metadata": {},
     "output_type": "display_data"
    }
   ],
   "source": [
    "plt.plot(history.history['loss'])\n",
    "plt.plot(history.history['val_loss'])\n",
    "plt.title('model mean squared error loss')\n",
    "plt.ylabel('mean squared error loss')\n",
    "plt.xlabel('epoch')\n",
    "plt.legend(['training set', 'validation set'], loc='upper right')\n",
    "plt.show()"
   ]
  },
  {
   "cell_type": "code",
   "execution_count": null,
   "metadata": {
    "collapsed": true
   },
   "outputs": [],
   "source": []
  }
 ],
 "metadata": {
  "kernelspec": {
   "display_name": "Python 3",
   "language": "python",
   "name": "python3"
  },
  "language_info": {
   "codemirror_mode": {
    "name": "ipython",
    "version": 3
   },
   "file_extension": ".py",
   "mimetype": "text/x-python",
   "name": "python",
   "nbconvert_exporter": "python",
   "pygments_lexer": "ipython3",
   "version": "3.5.2"
  },
  "widgets": {
   "state": {},
   "version": "1.1.2"
  }
 },
 "nbformat": 4,
 "nbformat_minor": 2
}
