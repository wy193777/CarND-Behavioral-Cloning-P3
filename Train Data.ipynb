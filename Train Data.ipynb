{
 "cells": [
  {
   "cell_type": "code",
   "execution_count": 31,
   "metadata": {},
   "outputs": [
    {
     "data": {
      "text/html": [
       "<style>.container { width:100% !important; }</style>"
      ],
      "text/plain": [
       "<IPython.core.display.HTML object>"
      ]
     },
     "metadata": {},
     "output_type": "display_data"
    }
   ],
   "source": [
    "from IPython.core.display import display, HTML\n",
    "display(HTML(\"<style>.container { width:100% !important; }</style>\"))"
   ]
  },
  {
   "cell_type": "markdown",
   "metadata": {},
   "source": [
    "# Load Data"
   ]
  },
  {
   "cell_type": "code",
   "execution_count": 32,
   "metadata": {
    "collapsed": true
   },
   "outputs": [],
   "source": [
    "# center,left,right,steering,throttle,brake,speed\n",
    "import os\n",
    "import csv\n",
    "\n",
    "samples = []\n",
    "with open('../data/driving_log.csv') as csvfile:\n",
    "    reader = csv.reader(csvfile)\n",
    "    for line in reader:\n",
    "        samples.append(line)\n",
    "\n",
    "\n",
    "from sklearn.model_selection import train_test_split\n",
    "train_samples, validation_samples = train_test_split(samples, test_size=0.2)\n",
    "\n",
    "from scipy import misc\n",
    "import cv2\n",
    "import numpy as np\n",
    "import sklearn\n",
    "\n",
    "def generator(samples, batch_size=256):\n",
    "    \n",
    "    correction = 0.2\n",
    "    num_samples = len(samples)\n",
    "    while 1: # Loop forever so the generator never terminates\n",
    "        sklearn.utils.shuffle(samples)\n",
    "        for offset in range(0, num_samples, batch_size):\n",
    "            batch_samples = samples[offset:offset + batch_size]\n",
    "            \n",
    "            images = []\n",
    "            angles = []\n",
    "            for batch_sample in batch_samples:\n",
    "                center_angle = float(batch_sample[3])\n",
    "                left_angle = center_angle + correction\n",
    "                right_angle = center_angle - correction\n",
    "                # Add all three image and its corresponding steer angles into the training set.\n",
    "                for file_name, steer in zip(batch_sample[:3], [center_angle, left_angle, right_angle]):\n",
    "                    file_path = '../data/' + file_name.strip()\n",
    "                    images.append(misc.imread(file_path)) # read image as RGB format\n",
    "                    angles.append(steer)\n",
    "\n",
    "            X_train = np.array(images)\n",
    "            y_train = np.array(angles)\n",
    "            yield sklearn.utils.shuffle(X_train, y_train)"
   ]
  },
  {
   "cell_type": "code",
   "execution_count": 33,
   "metadata": {
    "collapsed": true
   },
   "outputs": [],
   "source": [
    "# compile and train the model using the generator function\n",
    "train_generator = generator(train_samples, batch_size=32)\n",
    "validation_generator = generator(validation_samples, batch_size=32)"
   ]
  },
  {
   "cell_type": "code",
   "execution_count": 34,
   "metadata": {},
   "outputs": [
    {
     "name": "stdout",
     "output_type": "stream",
     "text": [
      "Training set size: 10691\n",
      "Validation set size 2673\n"
     ]
    }
   ],
   "source": [
    "print(\"Training set size:\", len(train_samples))\n",
    "print(\"Validation set size\", len(validation_samples))"
   ]
  },
  {
   "cell_type": "markdown",
   "metadata": {},
   "source": [
    "# Preprocess Data"
   ]
  },
  {
   "cell_type": "code",
   "execution_count": null,
   "metadata": {
    "collapsed": true
   },
   "outputs": [],
   "source": []
  },
  {
   "cell_type": "markdown",
   "metadata": {},
   "source": [
    "# Train Model"
   ]
  },
  {
   "cell_type": "code",
   "execution_count": 35,
   "metadata": {},
   "outputs": [
    {
     "name": "stdout",
     "output_type": "stream",
     "text": [
      "Epoch 1/20\n",
      "10656/10691 [============================>.] - ETA: 0s - loss: 0.1610"
     ]
    },
    {
     "name": "stderr",
     "output_type": "stream",
     "text": [
      "/home/carnd/anaconda3/envs/carnd-term1/lib/python3.5/site-packages/keras/engine/training.py:1569: UserWarning: Epoch comprised more than `samples_per_epoch` samples, which might affect learning results. Set `samples_per_epoch` correctly to avoid this warning.\n",
      "  warnings.warn('Epoch comprised more than '\n"
     ]
    },
    {
     "name": "stdout",
     "output_type": "stream",
     "text": [
      "10752/10691 [==============================] - 25s - loss: 0.1600 - val_loss: 0.0704\n",
      "Epoch 2/20\n",
      "10752/10691 [==============================] - 25s - loss: 0.0734 - val_loss: 0.0827\n",
      "Epoch 3/20\n",
      "10761/10691 [==============================] - 25s - loss: 0.0656 - val_loss: 0.0877\n",
      "Epoch 4/20\n",
      "10752/10691 [==============================] - 25s - loss: 0.0674 - val_loss: 0.0641\n",
      "Epoch 5/20\n",
      "10752/10691 [==============================] - 25s - loss: 0.0593 - val_loss: 0.0671\n",
      "Epoch 6/20\n",
      "10761/10691 [==============================] - 25s - loss: 0.0571 - val_loss: 0.0710\n",
      "Epoch 7/20\n",
      "10752/10691 [==============================] - 25s - loss: 0.0606 - val_loss: 0.0582\n",
      "Epoch 8/20\n",
      "10752/10691 [==============================] - 25s - loss: 0.0556 - val_loss: 0.0627\n",
      "Epoch 9/20\n",
      "10761/10691 [==============================] - 25s - loss: 0.0530 - val_loss: 0.0795\n",
      "Epoch 10/20\n",
      "10752/10691 [==============================] - 25s - loss: 0.0579 - val_loss: 0.0560\n",
      "Epoch 11/20\n",
      "10752/10691 [==============================] - 25s - loss: 0.0516 - val_loss: 0.0644\n",
      "Epoch 12/20\n",
      "10761/10691 [==============================] - 25s - loss: 0.0505 - val_loss: 0.0773\n",
      "Epoch 13/20\n",
      "10752/10691 [==============================] - 25s - loss: 0.0538 - val_loss: 0.0548\n",
      "Epoch 14/20\n",
      "10752/10691 [==============================] - 25s - loss: 0.0487 - val_loss: 0.0625\n",
      "Epoch 15/20\n",
      "10761/10691 [==============================] - 25s - loss: 0.0486 - val_loss: 0.0697\n",
      "Epoch 16/20\n",
      "10752/10691 [==============================] - 25s - loss: 0.0502 - val_loss: 0.0549\n",
      "Epoch 17/20\n",
      "10752/10691 [==============================] - 25s - loss: 0.0448 - val_loss: 0.0641\n",
      "Epoch 18/20\n",
      "10761/10691 [==============================] - 25s - loss: 0.0457 - val_loss: 0.0662\n",
      "Epoch 19/20\n",
      "10752/10691 [==============================] - 25s - loss: 0.0466 - val_loss: 0.0567\n",
      "Epoch 20/20\n",
      "10752/10691 [==============================] - 25s - loss: 0.0417 - val_loss: 0.0640\n"
     ]
    }
   ],
   "source": [
    "from keras.models import Sequential\n",
    "from keras.layers import Flatten, Dense, Lambda, Convolution2D\n",
    "from keras.layers import Cropping2D\n",
    "from keras.models import Model\n",
    "import matplotlib.pyplot as plt\n",
    "\n",
    "model = Sequential()\n",
    "model.add(Cropping2D(cropping=((70,25), (0,0)), input_shape=(160,320,3))) # crop top 10 pixels and bottom 25\n",
    "model.add(Lambda(lambda x: x / 255.0 - 0.5, input_shape=(65, 320, 3))) # normalize images\n",
    "model.add(Convolution2D(24, 5, 5, subsample=(2, 2), activation=\"relu\"))\n",
    "# model.add(Convolution2D(36, 5, 5, subsample=(2, 2), activation=\"relu\"))\n",
    "model.add(Convolution2D(48, 5, 5, subsample=(2, 2), activation=\"relu\"))\n",
    "# model.add(Convolution2D(64, 3, 3, activation=\"relu\"))\n",
    "model.add(Convolution2D(64, 3, 3, activation=\"relu\"))\n",
    "model.add(Flatten())\n",
    "model.add(Dense(100))\n",
    "# model.add(Dense(50))\n",
    "model.add(Dense(10))\n",
    "model.add(Dense(1))\n",
    "\n",
    "model.compile(loss='mse', optimizer='adam')\n",
    "history = model.fit_generator(\n",
    "    train_generator, \n",
    "    samples_per_epoch=len(train_samples), \n",
    "    validation_data=validation_generator,\n",
    "    nb_val_samples=len(validation_samples), \n",
    "    nb_epoch=20)\n",
    "\n",
    "model.save('model.h5')"
   ]
  },
  {
   "cell_type": "code",
   "execution_count": 36,
   "metadata": {},
   "outputs": [
    {
     "data": {
      "image/png": "[encoded data removed]",
      "text/plain": [
       "<matplotlib.figure.Figure at 0x7f2061cc9e80>"
      ]
     },
     "metadata": {},
     "output_type": "display_data"
    }
   ],
   "source": [
    "plt.plot(history.history['loss'])\n",
    "plt.plot(history.history['val_loss'])\n",
    "plt.title('model mean squared error loss')\n",
    "plt.ylabel('mean squared error loss')\n",
    "plt.xlabel('epoch')\n",
    "plt.legend(['training set', 'validation set'], loc='upper right')\n",
    "plt.show()"
   ]
  },
  {
   "cell_type": "code",
   "execution_count": null,
   "metadata": {
    "collapsed": true
   },
   "outputs": [],
   "source": []
  },
  {
   "cell_type": "code",
   "execution_count": null,
   "metadata": {
    "collapsed": true
   },
   "outputs": [],
   "source": []
  }
 ],
 "metadata": {
  "kernelspec": {
   "display_name": "Python 3",
   "language": "python",
   "name": "python3"
  },
  "language_info": {
   "codemirror_mode": {
    "name": "ipython",
    "version": 3
   },
   "file_extension": ".py",
   "mimetype": "text/x-python",
   "name": "python",
   "nbconvert_exporter": "python",
   "pygments_lexer": "ipython3",
   "version": "3.5.2"
  },
  "widgets": {
   "state": {},
   "version": "1.1.2"
  }
 },
 "nbformat": 4,
 "nbformat_minor": 2
}
